{
 "cells": [
  {
   "cell_type": "markdown",
   "metadata": {},
   "source": [
    "# High Pass Filter Calculations\n",
    "### Calculating the required components to build a high pass filter with a given cutoff frequency"
   ]
  },
  {
   "cell_type": "markdown",
   "metadata": {},
   "source": [
    "### 1. Using Scipy"
   ]
  },
  {
   "cell_type": "code",
   "execution_count": 6,
   "metadata": {},
   "outputs": [
    {
     "name": "stderr",
     "output_type": "stream",
     "text": [
      "/usr/lib/python3.5/importlib/_bootstrap.py:222: RuntimeWarning: numpy.dtype size changed, may indicate binary incompatibility. Expected 96, got 88\n",
      "  return f(*args, **kwds)\n",
      "/usr/lib/python3.5/importlib/_bootstrap.py:222: RuntimeWarning: numpy.dtype size changed, may indicate binary incompatibility. Expected 96, got 88\n",
      "  return f(*args, **kwds)\n"
     ]
    }
   ],
   "source": [
    "import pandas as pd\n",
    "import numpy as np\n",
    "import scipy\n",
    "from scipy import signal\n",
    "from matplotlib import pyplot as plt"
   ]
  },
  {
   "cell_type": "code",
   "execution_count": 7,
   "metadata": {},
   "outputs": [],
   "source": [
    "cutoff = 1.5"
   ]
  },
  {
   "cell_type": "code",
   "execution_count": 11,
   "metadata": {},
   "outputs": [],
   "source": [
    "order=1\n",
    "b, a = signal.butter(order, cutoff, btype='low', analog=True)"
   ]
  },
  {
   "cell_type": "code",
   "execution_count": 12,
   "metadata": {},
   "outputs": [],
   "source": [
    "w, h = signal.freqs(b, a)"
   ]
  },
  {
   "cell_type": "code",
   "execution_count": 36,
   "metadata": {},
   "outputs": [
    {
     "data": {
      "image/png": "[encoded data removed]",
      "text/plain": [
       "<Figure size 432x288 with 1 Axes>"
      ]
     },
     "metadata": {
      "needs_background": "light"
     },
     "output_type": "display_data"
    }
   ],
   "source": [
    "plt.plot(w,h)\n",
    "plt.xlabel('Frequency')\n",
    "plt.ylabel('Gain')\n",
    "plt.xscale('log')\n",
    "plt.grid(which='both', axis='both')\n",
    "plt.axvline(cutoff, color='green') # Vertical line at cutoff frequency\n",
    "plt.show()"
   ]
  },
  {
   "cell_type": "code",
   "execution_count": 39,
   "metadata": {},
   "outputs": [
    {
     "name": "stdout",
     "output_type": "stream",
     "text": [
      "[-0.01925921-0.57820372j -0.02016942-0.59169892j -0.02112254-0.6055071j\n",
      " -0.02212059-0.61963537j -0.02316568-0.634091j   -0.02426   -0.64888142j\n",
      " -0.02540586-0.66401419j -0.02660568-0.67949707j -0.02786198-0.69533794j\n",
      " -0.0291774 -0.71154487j]\n",
      "[0.57852438 0.59204258 0.6058754  0.62003009 0.63451402 0.64933477\n",
      " 0.66450004 0.68001774 0.69589593 0.71214284]\n"
     ]
    }
   ],
   "source": [
    "print(gain[:10])\n",
    "print(abs(gain[:10]))"
   ]
  },
  {
   "cell_type": "code",
   "execution_count": 45,
   "metadata": {},
   "outputs": [
    {
     "data": {
      "image/png": "[encoded data removed]",
      "text/plain": [
       "<Figure size 432x288 with 1 Axes>"
      ]
     },
     "metadata": {
      "needs_background": "light"
     },
     "output_type": "display_data"
    }
   ],
   "source": [
    "gain = 20*np.log10(h)\n",
    "plt.subplot(2,1,2)\n",
    "plt.plot(w, gain)\n",
    "plt.xlabel('Frequency')\n",
    "plt.ylabel('Gain')\n",
    "plt.xscale('log')\n",
    "plt.grid(which='both', axis='both')\n",
    "plt.axvline(cutoff, color='green') # Vertical line at cutoff frequency\n",
    "\n",
    "plt.plot(w, abs(gain))\n",
    "plt.xlabel('Frequency')\n",
    "plt.ylabel('Gain')\n",
    "plt.xscale('log')\n",
    "plt.grid(which='both', axis='both')\n",
    "plt.axvline(cutoff, color='green') # Vertical line at cutoff frequency\n",
    "plt.show()"
   ]
  },
  {
   "cell_type": "markdown",
   "metadata": {},
   "source": [
    "### 2. Using Circuits Theory"
   ]
  },
  {
   "cell_type": "code",
   "execution_count": null,
   "metadata": {},
   "outputs": [],
   "source": []
  }
 ],
 "metadata": {
  "kernelspec": {
   "display_name": "Python 3",
   "language": "python",
   "name": "python3"
  },
  "language_info": {
   "codemirror_mode": {
    "name": "ipython",
    "version": 3
   },
   "file_extension": ".py",
   "mimetype": "text/x-python",
   "name": "python",
   "nbconvert_exporter": "python",
   "pygments_lexer": "ipython3",
   "version": "3.5.2"
  }
 },
 "nbformat": 4,
 "nbformat_minor": 2
}
