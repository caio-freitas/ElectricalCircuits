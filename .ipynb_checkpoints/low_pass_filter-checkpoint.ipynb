{
 "cells": [
  {
   "cell_type": "markdown",
   "metadata": {},
   "source": [
    "# Low Pass Filter Calculations\n",
    "### Calculating the required components to build a low pass filter with a given cutoff frequency"
   ]
  },
  {
   "cell_type": "markdown",
   "metadata": {},
   "source": [
    "### 1. Using Scipy"
   ]
  },
  {
   "cell_type": "code",
   "execution_count": 1,
   "metadata": {},
   "outputs": [
    {
     "name": "stderr",
     "output_type": "stream",
     "text": [
      "/usr/lib/python3.5/importlib/_bootstrap.py:222: RuntimeWarning: numpy.dtype size changed, may indicate binary incompatibility. Expected 96, got 88\n",
      "  return f(*args, **kwds)\n",
      "/usr/lib/python3.5/importlib/_bootstrap.py:222: RuntimeWarning: numpy.dtype size changed, may indicate binary incompatibility. Expected 96, got 88\n",
      "  return f(*args, **kwds)\n"
     ]
    }
   ],
   "source": [
    "import pandas as pd\n",
    "import numpy as np\n",
    "import scipy\n",
    "from scipy import signal\n",
    "from matplotlib import pyplot as plt"
   ]
  },
  {
   "cell_type": "code",
   "execution_count": 2,
   "metadata": {},
   "outputs": [],
   "source": [
    "cutoff = 1.5"
   ]
  },
  {
   "cell_type": "code",
   "execution_count": 3,
   "metadata": {},
   "outputs": [],
   "source": [
    "order=1\n",
    "b, a = signal.butter(order, cutoff, btype='low', analog=True)"
   ]
  },
  {
   "cell_type": "code",
   "execution_count": 4,
   "metadata": {},
   "outputs": [],
   "source": [
    "w, h = signal.freqs(b, a)"
   ]
  },
  {
   "cell_type": "code",
   "execution_count": 5,
   "metadata": {},
   "outputs": [
    {
     "name": "stderr",
     "output_type": "stream",
     "text": [
      "/home/caio/.local/lib/python3.5/site-packages/numpy/core/numeric.py:501: ComplexWarning: Casting complex values to real discards the imaginary part\n",
      "  return array(a, dtype, copy=False, order=order)\n"
     ]
    },
    {
     "data": {
      "image/png": "[encoded data removed]",
      "text/plain": [
       "<Figure size 432x288 with 1 Axes>"
      ]
     },
     "metadata": {
      "needs_background": "light"
     },
     "output_type": "display_data"
    }
   ],
   "source": [
    "plt.plot(w,h)\n",
    "plt.xlabel('Frequency')\n",
    "plt.ylabel('Gain')\n",
    "plt.xscale('log')\n",
    "plt.grid(which='both', axis='both')\n",
    "plt.axvline(cutoff, color='green') # Vertical line at cutoff frequency\n",
    "plt.show()"
   ]
  },
  {
   "cell_type": "code",
   "execution_count": 29,
   "metadata": {},
   "outputs": [
    {
     "data": {
      "image/png": "[encoded data removed]",
      "text/plain": [
       "<Figure size 432x288 with 2 Axes>"
      ]
     },
     "metadata": {
      "needs_background": "light"
     },
     "output_type": "display_data"
    }
   ],
   "source": [
    "gain = 20*np.log10(h)\n",
    "plt.subplot(2,1,1)\n",
    "plt.plot(w, gain)\n",
    "plt.title(\"Frequency Responses\")\n",
    "plt.ylabel('Gain')\n",
    "plt.xscale('log')\n",
    "plt.grid(which='both', axis='both')\n",
    "plt.axvline(cutoff, color='green') # Vertical line at cutoff frequency\n",
    "\n",
    "plt.subplot(2,1,2)\n",
    "plt.plot(w, abs(gain))\n",
    "plt.xlabel('Frequency')\n",
    "plt.ylabel('|Gain|')\n",
    "plt.xscale('log')\n",
    "plt.grid(which='both', axis='both')\n",
    "plt.axvline(cutoff, color='red') # Vertical line at cutoff frequency\n",
    "plt.show()"
   ]
  },
  {
   "cell_type": "code",
   "execution_count": 6,
   "metadata": {},
   "outputs": [
    {
     "ename": "NameError",
     "evalue": "name 'gain' is not defined",
     "output_type": "error",
     "traceback": [
      "\u001b[0;31m---------------------------------------------------------------------------\u001b[0m",
      "\u001b[0;31mNameError\u001b[0m                                 Traceback (most recent call last)",
      "\u001b[0;32m<ipython-input-6-7e221586fb01>\u001b[0m in \u001b[0;36m<module>\u001b[0;34m\u001b[0m\n\u001b[0;32m----> 1\u001b[0;31m \u001b[0mprint\u001b[0m\u001b[0;34m(\u001b[0m\u001b[0mgain\u001b[0m\u001b[0;34m[\u001b[0m\u001b[0;34m:\u001b[0m\u001b[0;36m10\u001b[0m\u001b[0;34m]\u001b[0m\u001b[0;34m)\u001b[0m\u001b[0;34m\u001b[0m\u001b[0m\n\u001b[0m\u001b[1;32m      2\u001b[0m \u001b[0mprint\u001b[0m\u001b[0;34m(\u001b[0m\u001b[0mabs\u001b[0m\u001b[0;34m(\u001b[0m\u001b[0mgain\u001b[0m\u001b[0;34m[\u001b[0m\u001b[0;34m:\u001b[0m\u001b[0;36m10\u001b[0m\u001b[0;34m]\u001b[0m\u001b[0;34m)\u001b[0m\u001b[0;34m)\u001b[0m\u001b[0;34m\u001b[0m\u001b[0m\n",
      "\u001b[0;31mNameError\u001b[0m: name 'gain' is not defined"
     ]
    }
   ],
   "source": [
    "print(gain[:10])\n",
    "print(abs(gain[:10]))"
   ]
  },
  {
   "cell_type": "markdown",
   "metadata": {},
   "source": [
    "### 2. Using Circuits Theory"
   ]
  },
  {
   "cell_type": "markdown",
   "metadata": {},
   "source": [
    "$\\int_0^\\infty \\mathrm{e}^{-x}\\,\\mathrm{d}x$\n",
    "\n",
    "We know that **Vout = R*I** (Vout and I are phasors) and **I = $\\frac{Vin}{Z}$**, where **Z = R + $\\frac{1}{jwC}$**.\n",
    "\n",
    "\n",
    "From simple algebraic manipulation, we get to the _frequency response equation_:\n",
    "    __$\\frac{Vout}{Vin}$ = $\\frac{1}{1 + \\frac{1}{jwRC}}$__\n",
    "\n",
    "And the absolute value of the frequency respose is, therefore:\n",
    "  $ \\langle \\frac{Vout}{Vin} \\rangle = \\frac{1}{\\sqrt{1+(\\frac{1}{wRC})^2}}$"
   ]
  },
  {
   "cell_type": "code",
   "execution_count": null,
   "metadata": {},
   "outputs": [],
   "source": [
    "npoints = 1000\n",
    "x = np.zeros(npoints)\n",
    "for i in range (npoints):\n",
    "    x[i] = i +1\n",
    "x = np.linspace(0.0, 1000.0)\n",
    "    \n",
    "y = 1/np.sqrt(1+((1/x*r*c)*(1/x*r*c)))"
   ]
  },
  {
   "cell_type": "code",
   "execution_count": null,
   "metadata": {},
   "outputs": [],
   "source": [
    "plt.plot(x, y)\n",
    "\n",
    "plt.xlabel('Frequency')\n",
    "plt.ylabel('Gain')\n",
    "plt.xscale('log')\n",
    "plt.grid(which='both', axis='both')\n",
    "plt.axvline(w, color='green') # Vertical line at cutoff frequency\n",
    "plt.show()"
   ]
  },
  {
   "cell_type": "code",
   "execution_count": null,
   "metadata": {},
   "outputs": [],
   "source": [
    "r = 1000 # Arbitrairly choosing r as 1kohm\n",
    "f = 450 #Hz\n",
    "w = 2*np.pi*f\n",
    "c=1/w\n",
    "print(c)"
   ]
  },
  {
   "cell_type": "code",
   "execution_count": null,
   "metadata": {},
   "outputs": [],
   "source": []
  }
 ],
 "metadata": {
  "kernelspec": {
   "display_name": "Python 3",
   "language": "python",
   "name": "python3"
  },
  "language_info": {
   "codemirror_mode": {
    "name": "ipython",
    "version": 3
   },
   "file_extension": ".py",
   "mimetype": "text/x-python",
   "name": "python",
   "nbconvert_exporter": "python",
   "pygments_lexer": "ipython3",
   "version": "3.5.2"
  }
 },
 "nbformat": 4,
 "nbformat_minor": 2
}
