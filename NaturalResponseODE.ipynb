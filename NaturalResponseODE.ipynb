{
 "cells": [
  {
   "cell_type": "markdown",
   "metadata": {},
   "source": [
    "# Low Pass Filter Calculations\n",
    "### Calculating the required components to build a low pass filter with a given cutoff frequency"
   ]
  },
  {
   "cell_type": "markdown",
   "metadata": {},
   "source": [
    "### 1. Using Scipy"
   ]
  },
  {
   "cell_type": "code",
   "execution_count": 33,
   "metadata": {},
   "outputs": [],
   "source": [
    "import pandas as pd\n",
    "import numpy as np\n",
    "import scipy\n",
    "from scipy import signal\n",
    "from matplotlib import pyplot as plt\n",
    "from numpy.linalg import eig, inv\n",
    "from numpy import diag"
   ]
  },
  {
   "cell_type": "code",
   "execution_count": 208,
   "metadata": {},
   "outputs": [],
   "source": [
    "R = 200\n",
    "\n",
    "L = 0.000006\n",
    "\n",
    "C = 0.000000003\n",
    "\n",
    "N = 200"
   ]
  },
  {
   "cell_type": "code",
   "execution_count": 209,
   "metadata": {},
   "outputs": [],
   "source": [
    "alpha = 1/(2*R*C)\n",
    "wo = 1/np.sqrt(L*C)"
   ]
  },
  {
   "cell_type": "code",
   "execution_count": 210,
   "metadata": {},
   "outputs": [],
   "source": [
    "A = np.ndarray(shape=(2,2))\n",
    "B = np.ndarray(shape=(2,1))\n",
    "\n",
    "A = [[0, 1], [-wo*wo, -2*alpha]]\n",
    "B = ([[0], [wo*wo]])"
   ]
  },
  {
   "cell_type": "code",
   "execution_count": 211,
   "metadata": {},
   "outputs": [
    {
     "name": "stdout",
     "output_type": "stream",
     "text": [
      "[[-1.5e-08-1.33322916e-07j -1.5e-08+1.33322916e-07j]\n",
      " [ 1.0e+00+0.00000000e+00j  1.0e+00-0.00000000e+00j]]\n",
      "[-833333.33333333+7406828.68109632j -833333.33333333-7406828.68109632j]\n"
     ]
    }
   ],
   "source": [
    "D, V = eig(A)\n",
    "print(V)\n",
    "print(D)"
   ]
  },
  {
   "cell_type": "code",
   "execution_count": 212,
   "metadata": {},
   "outputs": [
    {
     "data": {
      "text/plain": [
       "array([ 6.6862604 , -4.88188835,  2.52189881,  7.80330395,  9.29486642,\n",
       "        8.32310569, -5.41540925,  0.64827928, -4.96971434,  6.91935084,\n",
       "        4.11099957, -1.83024267, -5.10970907, -1.2184648 , -9.93744826,\n",
       "        3.13754102,  2.10895415, -0.33856175, -9.67763391, -3.84568714,\n",
       "       -3.54793988,  6.61597767,  2.14531802,  7.7210193 ,  6.61415981,\n",
       "        9.56200054, -6.87736617,  6.62784058,  5.01750731, -5.47398379,\n",
       "        3.56795273, -1.89842299,  6.7691075 , -5.44143722, -3.29930124,\n",
       "       -1.44110996, -6.84490495,  6.8850295 , -5.67667629,  7.22182875,\n",
       "        8.37425653,  6.97037925, -6.74697482, -5.4876996 ,  3.09237596,\n",
       "       -2.75312311, -7.55665226,  4.95088014,  7.03627412,  9.15568339,\n",
       "       -2.20768207,  8.38270904,  1.96230469, -6.43799564, -8.49914834,\n",
       "        5.01361062,  4.46713452, -5.03594717,  4.42875542,  3.51763224,\n",
       "       -2.91661424,  0.74124528, -8.6911425 ,  0.33673016,  5.3505808 ,\n",
       "        1.93249778,  3.08457929, -1.14837962,  2.75176078,  2.40266657,\n",
       "        4.38994219, -2.54696825, -5.01409097,  9.39264639, -2.85637158,\n",
       "        5.17654649,  7.86106743, -4.10222231, -4.18379828, -9.18511195,\n",
       "        2.56362129,  2.23975638, -5.08971028,  1.33217363,  5.53915568,\n",
       "       -8.05442667, -1.98721166,  7.96613339,  5.64336158, -5.71394187,\n",
       "        5.83035551, -9.85487057,  4.94994396,  4.78636751, -6.77570813,\n",
       "       -7.69753794,  3.37255298, -8.47095443, -8.82870961, -5.36165157,\n",
       "        8.58687998,  8.6031665 , -2.12641426, -3.91680132,  3.4269992 ,\n",
       "        5.41654065,  1.63959657, -5.43939527, -8.83152226, -9.76473447,\n",
       "        3.67059784, -4.25063426,  2.64021868, -0.97370267, -4.62115106,\n",
       "       -3.7803427 ,  9.26869532, -2.39029666,  9.25319787, -7.65971225,\n",
       "        1.68904114, -1.67229862,  9.57997   , -9.42137669, -0.44968148,\n",
       "       -2.14641842,  4.58911978, -8.99644744,  0.95672225, -9.00057132,\n",
       "        3.70895456, -5.60821358,  0.73084989,  6.39210275, -6.75802187,\n",
       "       -9.02241455,  1.85754489, -9.86047195, -8.98587493,  1.88218958,\n",
       "        8.18517675,  1.70291196, -1.39636543,  1.19758546, -9.0767806 ,\n",
       "       -8.48109127, -2.50198083,  3.8697017 ,  9.10297933, -3.56273568,\n",
       "       -4.85073455,  2.92899401,  4.15229939,  8.17005587,  6.72489775,\n",
       "       -5.3977338 , -3.17377174, -4.77326858, -6.64723558,  8.174018  ,\n",
       "        7.11796221, -1.77981333,  6.46392876,  4.52062488,  5.76521951,\n",
       "        3.95043145, -2.16782284,  2.20076476, -6.78677779, -3.64730066,\n",
       "        6.93417894, -6.18263607, -2.55047841, -2.86244637,  1.19271493,\n",
       "       -0.42095698,  2.74366264,  7.48318915, -7.83883763, -3.53840345,\n",
       "        1.46502187,  5.61207806, -5.32142427,  0.54530672, -9.43879877,\n",
       "        4.57410324, -0.51275148,  5.7510612 , -7.94854096, -7.37104038,\n",
       "       -6.39633947, -0.76216067,  0.557641  ,  6.87509678, -7.50852405,\n",
       "       -8.97242621, -7.05332499,  3.95003164,  1.51683479,  9.9231275 ])"
      ]
     },
     "execution_count": 212,
     "metadata": {},
     "output_type": "execute_result"
    }
   ],
   "source": [
    "I = 20*np.random.rand(N)-10;\n",
    "dI = 300*np.random.rand(N)-150;\n",
    "I"
   ]
  },
  {
   "cell_type": "code",
   "execution_count": 213,
   "metadata": {},
   "outputs": [
    {
     "name": "stderr",
     "output_type": "stream",
     "text": [
      "/usr/local/lib/python3.5/dist-packages/ipykernel_launcher.py:5: DeprecationWarning: object of type <class 'numpy.float64'> cannot be safely interpreted as an integer.\n",
      "  \"\"\"\n"
     ]
    }
   ],
   "source": [
    "hi = np.ndarray(shape=(2,1))\n",
    "hi = [[I[1]], [dI[1]/L]]\n",
    "ASv = inv(V)*hi\n",
    "Xt = V*diag(ASv)\n",
    "t = np.linspace(0,0.000008,wo/10)\n",
    "U = L*(Xt[1][0]*np.exp(D[0]*t) +Xt[1][1]*np.exp(D[1]*t))"
   ]
  },
  {
   "cell_type": "code",
   "execution_count": 214,
   "metadata": {},
   "outputs": [
    {
     "data": {
      "text/plain": [
       "Text(0, 0.5, 'Tension')"
      ]
     },
     "execution_count": 214,
     "metadata": {},
     "output_type": "execute_result"
    },
    {
     "data": {
      "image/png": "[encoded data removed]",
      "text/plain": [
       "<Figure size 432x288 with 1 Axes>"
      ]
     },
     "metadata": {
      "needs_background": "light"
     },
     "output_type": "display_data"
    }
   ],
   "source": [
    "#print(U)\n",
    "plt.plot(t, U)\n",
    "plt.grid()\n",
    "plt.xlabel('Time')\n",
    "plt.ylabel('Tension')\n"
   ]
  },
  {
   "cell_type": "code",
   "execution_count": 221,
   "metadata": {},
   "outputs": [
    {
     "name": "stderr",
     "output_type": "stream",
     "text": [
      "/usr/local/lib/python3.5/dist-packages/ipykernel_launcher.py:7: DeprecationWarning: object of type <class 'numpy.float64'> cannot be safely interpreted as an integer.\n",
      "  import sys\n"
     ]
    },
    {
     "ename": "TypeError",
     "evalue": "from_bounds() argument after * must be an iterable, not int",
     "output_type": "error",
     "traceback": [
      "\u001b[0;31m---------------------------------------------------------------------------\u001b[0m",
      "\u001b[0;31mTypeError\u001b[0m                                 Traceback (most recent call last)",
      "\u001b[0;32m<ipython-input-221-da5c0c39d115>\u001b[0m in \u001b[0;36m<module>\u001b[0;34m\u001b[0m\n\u001b[1;32m      8\u001b[0m \u001b[0mX1\u001b[0m \u001b[0;34m=\u001b[0m \u001b[0mXt\u001b[0m\u001b[0;34m[\u001b[0m\u001b[0;36m0\u001b[0m\u001b[0;34m]\u001b[0m\u001b[0;34m[\u001b[0m\u001b[0;36m0\u001b[0m\u001b[0;34m]\u001b[0m\u001b[0;34m*\u001b[0m\u001b[0mnp\u001b[0m\u001b[0;34m.\u001b[0m\u001b[0mexp\u001b[0m\u001b[0;34m(\u001b[0m\u001b[0mD\u001b[0m\u001b[0;34m[\u001b[0m\u001b[0;36m0\u001b[0m\u001b[0;34m]\u001b[0m\u001b[0;34m*\u001b[0m\u001b[0mt\u001b[0m\u001b[0;34m)\u001b[0m \u001b[0;34m+\u001b[0m\u001b[0mXt\u001b[0m\u001b[0;34m[\u001b[0m\u001b[0;36m0\u001b[0m\u001b[0;34m]\u001b[0m\u001b[0;34m[\u001b[0m\u001b[0;36m1\u001b[0m\u001b[0;34m]\u001b[0m\u001b[0;34m*\u001b[0m\u001b[0mnp\u001b[0m\u001b[0;34m.\u001b[0m\u001b[0mexp\u001b[0m\u001b[0;34m(\u001b[0m\u001b[0mD\u001b[0m\u001b[0;34m[\u001b[0m\u001b[0;36m1\u001b[0m\u001b[0;34m]\u001b[0m\u001b[0;34m*\u001b[0m\u001b[0mt\u001b[0m\u001b[0;34m)\u001b[0m\u001b[0;34m;\u001b[0m\u001b[0;34m\u001b[0m\u001b[0m\n\u001b[1;32m      9\u001b[0m \u001b[0mX2\u001b[0m \u001b[0;34m=\u001b[0m \u001b[0mXt\u001b[0m\u001b[0;34m[\u001b[0m\u001b[0;36m1\u001b[0m\u001b[0;34m]\u001b[0m\u001b[0;34m[\u001b[0m\u001b[0;36m1\u001b[0m\u001b[0;34m]\u001b[0m\u001b[0;34m*\u001b[0m\u001b[0mnp\u001b[0m\u001b[0;34m.\u001b[0m\u001b[0mexp\u001b[0m\u001b[0;34m(\u001b[0m\u001b[0mD\u001b[0m\u001b[0;34m[\u001b[0m\u001b[0;36m0\u001b[0m\u001b[0;34m]\u001b[0m\u001b[0;34m*\u001b[0m\u001b[0mt\u001b[0m\u001b[0;34m)\u001b[0m \u001b[0;34m+\u001b[0m\u001b[0mXt\u001b[0m\u001b[0;34m[\u001b[0m\u001b[0;36m1\u001b[0m\u001b[0;34m]\u001b[0m\u001b[0;34m[\u001b[0m\u001b[0;36m1\u001b[0m\u001b[0;34m]\u001b[0m\u001b[0;34m*\u001b[0m\u001b[0mnp\u001b[0m\u001b[0;34m.\u001b[0m\u001b[0mexp\u001b[0m\u001b[0;34m(\u001b[0m\u001b[0mD\u001b[0m\u001b[0;34m[\u001b[0m\u001b[0;36m1\u001b[0m\u001b[0;34m]\u001b[0m\u001b[0;34m*\u001b[0m\u001b[0mt\u001b[0m\u001b[0;34m)\u001b[0m\u001b[0;34m;\u001b[0m\u001b[0;34m\u001b[0m\u001b[0m\n\u001b[0;32m---> 10\u001b[0;31m \u001b[0mfig\u001b[0m \u001b[0;34m=\u001b[0m \u001b[0mplt\u001b[0m\u001b[0;34m.\u001b[0m\u001b[0mfigure\u001b[0m\u001b[0;34m(\u001b[0m\u001b[0;36m16\u001b[0m\u001b[0;34m,\u001b[0m \u001b[0;36m9\u001b[0m\u001b[0;34m,\u001b[0m \u001b[0;36m1\u001b[0m\u001b[0;34m)\u001b[0m\u001b[0;34m\u001b[0m\u001b[0m\n\u001b[0m\u001b[1;32m     11\u001b[0m \u001b[0;34m\u001b[0m\u001b[0m\n\u001b[1;32m     12\u001b[0m \u001b[0;32mfor\u001b[0m \u001b[0mk\u001b[0m \u001b[0;32min\u001b[0m \u001b[0mrange\u001b[0m\u001b[0;34m(\u001b[0m\u001b[0mN\u001b[0m\u001b[0;34m)\u001b[0m\u001b[0;34m:\u001b[0m\u001b[0;34m\u001b[0m\u001b[0m\n",
      "\u001b[0;32m/usr/local/lib/python3.5/dist-packages/matplotlib/pyplot.py\u001b[0m in \u001b[0;36mfigure\u001b[0;34m(num, figsize, dpi, facecolor, edgecolor, frameon, FigureClass, clear, **kwargs)\u001b[0m\n\u001b[1;32m    523\u001b[0m                                         \u001b[0mframeon\u001b[0m\u001b[0;34m=\u001b[0m\u001b[0mframeon\u001b[0m\u001b[0;34m,\u001b[0m\u001b[0;34m\u001b[0m\u001b[0m\n\u001b[1;32m    524\u001b[0m                                         \u001b[0mFigureClass\u001b[0m\u001b[0;34m=\u001b[0m\u001b[0mFigureClass\u001b[0m\u001b[0;34m,\u001b[0m\u001b[0;34m\u001b[0m\u001b[0m\n\u001b[0;32m--> 525\u001b[0;31m                                         **kwargs)\n\u001b[0m\u001b[1;32m    526\u001b[0m \u001b[0;34m\u001b[0m\u001b[0m\n\u001b[1;32m    527\u001b[0m         \u001b[0;32mif\u001b[0m \u001b[0mfigLabel\u001b[0m\u001b[0;34m:\u001b[0m\u001b[0;34m\u001b[0m\u001b[0m\n",
      "\u001b[0;32m/usr/local/lib/python3.5/dist-packages/matplotlib/backend_bases.py\u001b[0m in \u001b[0;36mnew_figure_manager\u001b[0;34m(cls, num, *args, **kwargs)\u001b[0m\n\u001b[1;32m   3215\u001b[0m         \u001b[0;32mfrom\u001b[0m \u001b[0mmatplotlib\u001b[0m\u001b[0;34m.\u001b[0m\u001b[0mfigure\u001b[0m \u001b[0;32mimport\u001b[0m \u001b[0mFigure\u001b[0m\u001b[0;34m\u001b[0m\u001b[0m\n\u001b[1;32m   3216\u001b[0m         \u001b[0mfig_cls\u001b[0m \u001b[0;34m=\u001b[0m \u001b[0mkwargs\u001b[0m\u001b[0;34m.\u001b[0m\u001b[0mpop\u001b[0m\u001b[0;34m(\u001b[0m\u001b[0;34m'FigureClass'\u001b[0m\u001b[0;34m,\u001b[0m \u001b[0mFigure\u001b[0m\u001b[0;34m)\u001b[0m\u001b[0;34m\u001b[0m\u001b[0m\n\u001b[0;32m-> 3217\u001b[0;31m         \u001b[0mfig\u001b[0m \u001b[0;34m=\u001b[0m \u001b[0mfig_cls\u001b[0m\u001b[0;34m(\u001b[0m\u001b[0;34m*\u001b[0m\u001b[0margs\u001b[0m\u001b[0;34m,\u001b[0m \u001b[0;34m**\u001b[0m\u001b[0mkwargs\u001b[0m\u001b[0;34m)\u001b[0m\u001b[0;34m\u001b[0m\u001b[0m\n\u001b[0m\u001b[1;32m   3218\u001b[0m         \u001b[0;32mreturn\u001b[0m \u001b[0mcls\u001b[0m\u001b[0;34m.\u001b[0m\u001b[0mnew_figure_manager_given_figure\u001b[0m\u001b[0;34m(\u001b[0m\u001b[0mnum\u001b[0m\u001b[0;34m,\u001b[0m \u001b[0mfig\u001b[0m\u001b[0;34m)\u001b[0m\u001b[0;34m\u001b[0m\u001b[0m\n\u001b[1;32m   3219\u001b[0m \u001b[0;34m\u001b[0m\u001b[0m\n",
      "\u001b[0;32m/usr/local/lib/python3.5/dist-packages/matplotlib/figure.py\u001b[0m in \u001b[0;36m__init__\u001b[0;34m(self, figsize, dpi, facecolor, edgecolor, linewidth, frameon, subplotpars, tight_layout, constrained_layout)\u001b[0m\n\u001b[1;32m    354\u001b[0m             raise ValueError('figure size must be finite not '\n\u001b[1;32m    355\u001b[0m                              '{}'.format(figsize))\n\u001b[0;32m--> 356\u001b[0;31m         \u001b[0mself\u001b[0m\u001b[0;34m.\u001b[0m\u001b[0mbbox_inches\u001b[0m \u001b[0;34m=\u001b[0m \u001b[0mBbox\u001b[0m\u001b[0;34m.\u001b[0m\u001b[0mfrom_bounds\u001b[0m\u001b[0;34m(\u001b[0m\u001b[0;36m0\u001b[0m\u001b[0;34m,\u001b[0m \u001b[0;36m0\u001b[0m\u001b[0;34m,\u001b[0m \u001b[0;34m*\u001b[0m\u001b[0mfigsize\u001b[0m\u001b[0;34m)\u001b[0m\u001b[0;34m\u001b[0m\u001b[0m\n\u001b[0m\u001b[1;32m    357\u001b[0m \u001b[0;34m\u001b[0m\u001b[0m\n\u001b[1;32m    358\u001b[0m         \u001b[0mself\u001b[0m\u001b[0;34m.\u001b[0m\u001b[0mdpi_scale_trans\u001b[0m \u001b[0;34m=\u001b[0m \u001b[0mAffine2D\u001b[0m\u001b[0;34m(\u001b[0m\u001b[0;34m)\u001b[0m\u001b[0;34m.\u001b[0m\u001b[0mscale\u001b[0m\u001b[0;34m(\u001b[0m\u001b[0mdpi\u001b[0m\u001b[0;34m,\u001b[0m \u001b[0mdpi\u001b[0m\u001b[0;34m)\u001b[0m\u001b[0;34m\u001b[0m\u001b[0m\n",
      "\u001b[0;31mTypeError\u001b[0m: from_bounds() argument after * must be an iterable, not int"
     ]
    }
   ],
   "source": [
    "hi = [[I[1]], [dI[1]/L]]\n",
    "AS = inv(V)*hi\n",
    "\n",
    "Xt = V*diag(AS)\n",
    "\n",
    "#Plotting\n",
    "t = np.linspace(0,0.0000006,wo/1000);\n",
    "X1 = Xt[0][0]*np.exp(D[0]*t) +Xt[0][1]*np.exp(D[1]*t);\n",
    "X2 = Xt[1][1]*np.exp(D[0]*t) +Xt[1][1]*np.exp(D[1]*t);  \n",
    "fig = plt.figure(16, 9, 1)\n",
    "\n",
    "for k in range(N):\n",
    "    hi = [[I[k]], [dI[k]/L]]\n",
    "    AS = inv(V)*hi\n",
    "\n",
    "    Xt = V*diag(AS)\n",
    "\n",
    "      #Plotting\n",
    "    t = np.linspace(0,0.0000006,int(wo/1000));\n",
    "    X1 = Xt[0][0]*np.exp(D[0]*t) +Xt[0][1]*np.exp(D[1]*t);\n",
    "    X2 = Xt[1][1]*np.exp(D[0]*t) +Xt[1][1]*np.exp(D[1]*t);  \n",
    "    plt.plot(X1[0], X2[0], 'o-')\n",
    "    plt.plot(X1, X2)\n",
    "    #plt.plot(X1[int(wo/1000)-1], X2[int(wo/1000)-1], 'o-')\n",
    "    plt.xlabel('X1 - i(t)')\n",
    "    plt.ylabel(\"X2 - di(t)/dt\")\n",
    "plt.grid()"
   ]
  },
  {
   "cell_type": "code",
   "execution_count": 220,
   "metadata": {},
   "outputs": [],
   "source": [
    "fig.savefig(\"figure\", facecolor='w', edgecolor='w',\n",
    "        orientation='portrait', format='pdf',\n",
    "        transparent=False)"
   ]
  },
  {
   "cell_type": "code",
   "execution_count": null,
   "metadata": {},
   "outputs": [],
   "source": []
  }
 ],
 "metadata": {
  "kernelspec": {
   "display_name": "Python 3",
   "language": "python",
   "name": "python3"
  },
  "language_info": {
   "codemirror_mode": {
    "name": "ipython",
    "version": 3
   },
   "file_extension": ".py",
   "mimetype": "text/x-python",
   "name": "python",
   "nbconvert_exporter": "python",
   "pygments_lexer": "ipython3",
   "version": "3.5.2"
  }
 },
 "nbformat": 4,
 "nbformat_minor": 2
}
